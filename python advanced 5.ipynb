{
 "cells": [
  {
   "cell_type": "markdown",
   "id": "0c3aec3e",
   "metadata": {},
   "source": [
    "#Q1. What is the meaning of multiple inheritance?\n",
    "Multiple inheritance in object-oriented programming refers to the ability of a class to inherit attributes and methods from more than one parent class. In multiple inheritance, a derived class can inherit from multiple base classes, allowing it to inherit and combine the characteristics and behaviors of multiple parent classes.\n",
    "#Q2. What is the concept of delegation?\n",
    "The concept of delegation in object-oriented programming refers to the act of one object (delegator) assigning responsibility for a particular task or operation to another object (delegate). In delegation, the delegator object forwards the request or invocation to the delegate object, which then performs the task on behalf of the delegator.\n",
    "#Q3. What is the concept of composition?\n",
    "The concept of composition in object-oriented programming refers to the practice of creating complex objects by combining simpler objects as their parts or components. Composition allows objects to have other objects as their instance variables, forming a \"has-a\" relationship.\n",
    "In composition, an object contains other objects as its attributes, and the composed object is responsible for managing the lifecycle and behavior of its component objects. This means that the composed object can use the functionality provided by its components to achieve its own functionality.\n",
    "#Q4. What are bound methods and how do we use them?\n",
    " a bound method is a method that is associated with an instance of a class. When a method is accessed through an instance, it becomes a bound method, and the instance is automatically passed as the first argument (self) to the method. Bound methods are directly callable and can access and modify the instance's attributes.\n",
    "\n",
    "To use a bound method, you can invoke it by appending parentheses after the method name, just like calling a regular function. When the bound method is called, the instance on which it was accessed is automatically passed as the first argument (self), and you can provide additional arguments as needed.\n",
    "#Q5. What is the purpose of pseudoprivate attributes?\n",
    "Pseudoprivate attributes, also known as name mangling, in Python serve the purpose of name collision prevention and name hiding within a class. Pseudoprivate attributes are not meant to enforce true privacy or access control, as they can still be accessed from outside the class. Instead, their primary purpose is to avoid accidental name clashes that could occur when subclasses or external code define attributes with the same name."
   ]
  }
 ],
 "metadata": {
  "kernelspec": {
   "display_name": "Python 3 (ipykernel)",
   "language": "python",
   "name": "python3"
  },
  "language_info": {
   "codemirror_mode": {
    "name": "ipython",
    "version": 3
   },
   "file_extension": ".py",
   "mimetype": "text/x-python",
   "name": "python",
   "nbconvert_exporter": "python",
   "pygments_lexer": "ipython3",
   "version": "3.9.13"
  }
 },
 "nbformat": 4,
 "nbformat_minor": 5
}
