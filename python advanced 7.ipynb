{
 "cells": [
  {
   "cell_type": "markdown",
   "id": "b16808e3",
   "metadata": {},
   "source": [
    "#Q1. What is the purpose of the try statement?\n",
    "The purpose of the try statement in Python is to define a block of code in which exceptions can occur. It allows you to handle and recover from exceptions in a structured and controlled manner.\n",
    "#Q2. What are the two most popular try statement variations?\n",
    "try-except:\n",
    "The try-except variation allows you to catch and handle specific exceptions that may occur within the try block. By specifying one or more except blocks, you can define different handling mechanisms for different types of exceptions. This variation is widely used to handle anticipated exceptions and gracefully recover from them.\n",
    "try-finally:\n",
    "The try-finally variation combines the try block with a finally block. The finally block is always executed, regardless of whether an exception occurs or not. It is commonly used for cleanup tasks or releasing resources that must be executed regardless of exceptions.\n",
    "#Q3. What is the purpose of the raise statement?\n",
    "The purpose of the raise statement in Python is to explicitly raise an exception. It allows you to trigger exceptions at specific points in your code to indicate exceptional conditions or errors.\n",
    "\n",
    "The raise statement is typically used when you want to signal that something unexpected or erroneous has occurred and you want to propagate that information up the call stack. It allows you to raise built-in or custom exceptions.\n",
    "#Q4. What does the assert statement do, and what other statement is it like?\n",
    "The assert statement in Python is used to check whether a given condition is true, and if it's not, it raises an AssertionError exception. It provides a way to add debugging checks into your code to catch and identify potential errors or inconsistencies during development\n",
    "#Q5. What is the purpose of the with/as argument, and what other statement is it like?\n",
    "The with/as statement in Python is used to simplify the management of resources, such as files or network connections, that need to be opened, used, and properly closed or cleaned up after usage. It ensures that the resources are released automatically, even in the presence of exceptions or errors."
   ]
  }
 ],
 "metadata": {
  "kernelspec": {
   "display_name": "Python 3 (ipykernel)",
   "language": "python",
   "name": "python3"
  },
  "language_info": {
   "codemirror_mode": {
    "name": "ipython",
    "version": 3
   },
   "file_extension": ".py",
   "mimetype": "text/x-python",
   "name": "python",
   "nbconvert_exporter": "python",
   "pygments_lexer": "ipython3",
   "version": "3.9.13"
  }
 },
 "nbformat": 4,
 "nbformat_minor": 5
}
